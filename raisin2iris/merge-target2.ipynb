{
 "cells": [
  {
   "cell_type": "code",
   "execution_count": 21,
   "metadata": {},
   "outputs": [],
   "source": [
    "import pandas as pd\n",
    "from sklearn import metrics\n",
    "from sklearn.neural_network import MLPClassifier\n",
    "from sklearn.model_selection import train_test_split\n",
    "from sklearn.model_selection import cross_val_score\n",
    "import matplotlib.pyplot as plt\n",
    "\n",
    "iris = pd.read_csv('../final_csv/reduced_iris.csv')\n",
    "raisin = pd.read_csv('../final_csv/reduced_raisin.csv')"
   ]
  },
  {
   "cell_type": "code",
   "execution_count": 22,
   "metadata": {},
   "outputs": [
    {
     "name": "stdout",
     "output_type": "stream",
     "text": [
      "Number of columns: 5\n"
     ]
    }
   ],
   "source": [
    "from sklearn.model_selection import StratifiedKFold\n",
    "from sklearn.neighbors import KNeighborsClassifier\n",
    "\n",
    "num_columns = iris.shape[1]\n",
    "print(\"Number of columns:\", num_columns)\n",
    "iris = iris[['SepalLengthCm', 'SepalWidthCm', 'Species', 'PetalLengthCm', 'PetalWidthCm']]\n",
    "raisin = raisin[['majoraxislength', 'perimeter', 'class', 'convexarea', 'area']]\n",
    "iris['Species'] = iris['Species'].map({'Iris-setosa': 0, 'Iris-versicolor': 1, 'Iris-virginica': 2})\n",
    "iris_columns = iris.columns\n",
    "raisin_columns = raisin.columns\n",
    "\n",
    "accuracy_overall = []\n",
    "\n",
    "data = raisin"
   ]
  },
  {
   "cell_type": "markdown",
   "metadata": {},
   "source": [
    "### Fit model with no changes to raisin dataset"
   ]
  },
  {
   "cell_type": "code",
   "execution_count": 23,
   "metadata": {},
   "outputs": [
    {
     "name": "stdout",
     "output_type": "stream",
     "text": [
      "Accuracy: 0.79\n",
      "Cross-Validation Scores: [0.71, 0.87, 0.76, 0.86]\n"
     ]
    }
   ],
   "source": [
    "X = data.drop('class', axis=1)\n",
    "y = data['class']\n",
    "\n",
    "X_train, X_test, y_train, y_test = train_test_split(X, y, train_size=0.75)\n",
    "\n",
    "knn_classifier = KNeighborsClassifier()\n",
    "knn_classifier.fit(X_train, y_train)\n",
    "\n",
    "y_pred = knn_classifier.predict(X_test)\n",
    "\n",
    "accuracy = round(metrics.accuracy_score(y_test, y_pred), 2)\n",
    "accuracy_overall.append(accuracy)\n",
    "cross_val_scores = cross_val_score(knn_classifier, X, y, cv=4)\n",
    "cross_val_scores = [round(score, 2) for score in cross_val_scores]\n",
    "\n",
    "print(\"Accuracy:\", accuracy)\n",
    "print(\"Cross-Validation Scores:\", cross_val_scores)"
   ]
  },
  {
   "cell_type": "markdown",
   "metadata": {},
   "source": [
    "### Change columns from raisin dataset to iris"
   ]
  },
  {
   "cell_type": "code",
   "execution_count": 24,
   "metadata": {},
   "outputs": [
    {
     "name": "stdout",
     "output_type": "stream",
     "text": [
      "\n",
      "Iris Column: SepalLengthCm  --  majoraxislength \n",
      "\n",
      "\n",
      "Cross-Validation Scores: [0.71, 0.87, 0.76, 0.86]\n",
      "Cross-Validation Scores: [0.71, 0.87, 0.76, 0.86]\n",
      "Cross-Validation Scores: [0.71, 0.87, 0.76, 0.86]\n",
      "Cross-Validation Scores: [0.71, 0.87, 0.76, 0.86]\n",
      "Cross-Validation Scores: [0.71, 0.87, 0.76, 0.86]\n",
      "Cross-Validation Scores: [0.71, 0.87, 0.76, 0.86]\n",
      "Cross-Validation Scores: [0.71, 0.87, 0.76, 0.86]\n",
      "Cross-Validation Scores: [0.71, 0.87, 0.76, 0.86]\n",
      "Cross-Validation Scores: [0.71, 0.87, 0.76, 0.86]\n",
      "Cross-Validation Scores: [0.71, 0.87, 0.76, 0.86]\n",
      "\n",
      "Iris Column: SepalWidthCm  --  perimeter \n",
      "\n",
      "\n",
      "Cross-Validation Scores: [0.71, 0.87, 0.76, 0.86]\n",
      "Cross-Validation Scores: [0.71, 0.87, 0.76, 0.86]\n",
      "Cross-Validation Scores: [0.71, 0.87, 0.76, 0.86]\n",
      "Cross-Validation Scores: [0.71, 0.87, 0.76, 0.86]\n",
      "Cross-Validation Scores: [0.71, 0.87, 0.76, 0.86]\n",
      "Cross-Validation Scores: [0.71, 0.87, 0.76, 0.86]\n",
      "Cross-Validation Scores: [0.71, 0.87, 0.76, 0.86]\n",
      "Cross-Validation Scores: [0.71, 0.87, 0.76, 0.86]\n",
      "Cross-Validation Scores: [0.71, 0.87, 0.76, 0.86]\n",
      "Cross-Validation Scores: [0.71, 0.87, 0.76, 0.86]\n",
      "\n",
      "Iris Column: Species  --  class \n",
      "\n",
      "\n",
      "Cross-Validation Scores: [0.58, 0.47, 0.49, 0.43]\n",
      "Cross-Validation Scores: [0.58, 0.47, 0.49, 0.43]\n",
      "Cross-Validation Scores: [0.58, 0.47, 0.49, 0.43]\n",
      "Cross-Validation Scores: [0.58, 0.47, 0.49, 0.43]\n",
      "Cross-Validation Scores: [0.58, 0.47, 0.49, 0.43]\n",
      "Cross-Validation Scores: [0.58, 0.47, 0.49, 0.43]\n",
      "Cross-Validation Scores: [0.58, 0.47, 0.49, 0.43]\n",
      "Cross-Validation Scores: [0.58, 0.47, 0.49, 0.43]\n",
      "Cross-Validation Scores: [0.58, 0.47, 0.49, 0.43]\n",
      "Cross-Validation Scores: [0.58, 0.47, 0.49, 0.43]\n",
      "\n",
      "Iris Column: PetalLengthCm  --  convexarea \n",
      "\n",
      "\n",
      "Cross-Validation Scores: [0.58, 0.53, 0.54, 0.49]\n",
      "Cross-Validation Scores: [0.58, 0.53, 0.54, 0.49]\n",
      "Cross-Validation Scores: [0.58, 0.53, 0.54, 0.49]\n",
      "Cross-Validation Scores: [0.58, 0.53, 0.54, 0.49]\n",
      "Cross-Validation Scores: [0.58, 0.53, 0.54, 0.49]\n",
      "Cross-Validation Scores: [0.58, 0.53, 0.54, 0.49]\n",
      "Cross-Validation Scores: [0.58, 0.53, 0.54, 0.49]\n",
      "Cross-Validation Scores: [0.58, 0.53, 0.54, 0.49]\n",
      "Cross-Validation Scores: [0.58, 0.53, 0.54, 0.49]\n",
      "Cross-Validation Scores: [0.58, 0.53, 0.54, 0.49]\n",
      "\n",
      "Iris Column: PetalWidthCm  --  area \n",
      "\n",
      "\n"
     ]
    },
    {
     "name": "stderr",
     "output_type": "stream",
     "text": [
      "/var/folders/qt/0w2950ws2bxb8smtx1s91h5r0000gn/T/ipykernel_14406/3628694861.py:3: FutureWarning: Setting an item of incompatible dtype is deprecated and will raise in a future error of pandas. Value '0      1.4\n",
      "1      1.4\n",
      "2      1.3\n",
      "3      1.5\n",
      "4      1.4\n",
      "      ... \n",
      "145    5.2\n",
      "146    5.0\n",
      "147    5.2\n",
      "148    5.4\n",
      "149    5.1\n",
      "Name: PetalLengthCm, Length: 150, dtype: float64' has dtype incompatible with int64, please explicitly cast to a compatible dtype first.\n",
      "  data.iloc[:,index] = iris.iloc[:,index]\n",
      "/var/folders/qt/0w2950ws2bxb8smtx1s91h5r0000gn/T/ipykernel_14406/3628694861.py:3: FutureWarning: Setting an item of incompatible dtype is deprecated and will raise in a future error of pandas. Value '0      0.2\n",
      "1      0.2\n",
      "2      0.2\n",
      "3      0.2\n",
      "4      0.2\n",
      "      ... \n",
      "145    2.3\n",
      "146    1.9\n",
      "147    2.0\n",
      "148    2.3\n",
      "149    1.8\n",
      "Name: PetalWidthCm, Length: 150, dtype: float64' has dtype incompatible with int64, please explicitly cast to a compatible dtype first.\n",
      "  data.iloc[:,index] = iris.iloc[:,index]\n"
     ]
    },
    {
     "name": "stdout",
     "output_type": "stream",
     "text": [
      "Cross-Validation Scores: [0.97, 0.95, 0.95, 1.0]\n",
      "Cross-Validation Scores: [0.97, 0.95, 0.95, 1.0]\n",
      "Cross-Validation Scores: [0.97, 0.95, 0.95, 1.0]\n",
      "Cross-Validation Scores: [0.97, 0.95, 0.95, 1.0]\n",
      "Cross-Validation Scores: [0.97, 0.95, 0.95, 1.0]\n",
      "Cross-Validation Scores: [0.97, 0.95, 0.95, 1.0]\n",
      "Cross-Validation Scores: [0.97, 0.95, 0.95, 1.0]\n",
      "Cross-Validation Scores: [0.97, 0.95, 0.95, 1.0]\n",
      "Cross-Validation Scores: [0.97, 0.95, 0.95, 1.0]\n",
      "Cross-Validation Scores: [0.97, 0.95, 0.95, 1.0]\n"
     ]
    },
    {
     "data": {
      "image/png": "[encoded data removed]",
      "text/plain": [
       "<Figure size 640x480 with 1 Axes>"
      ]
     },
     "metadata": {},
     "output_type": "display_data"
    }
   ],
   "source": [
    "for index in range(num_columns):\n",
    "    print(\"\\nIris Column:\", iris_columns[index], \" -- \", raisin_columns[index], \"\\n\\n\")\n",
    "    data.iloc[:,index] = iris.iloc[:,index]\n",
    "\n",
    "    X = data.drop('class', axis=1)\n",
    "    Y = data['class'].astype('int')\n",
    "\n",
    "    n_splits = 10\n",
    "\n",
    "    skf = StratifiedKFold(n_splits, shuffle=True, random_state=10)\n",
    "    average_accuracy=0\n",
    "    for fold, (train_index, test_index) in enumerate(skf.split(X, Y)):\n",
    "        X_train = X.take(train_index)\n",
    "        y_train = Y.take(train_index)\n",
    "        X_test = X.take(test_index)\n",
    "        y_test = Y.take(test_index)\n",
    "\n",
    "        knn_classifier = KNeighborsClassifier()\n",
    "        knn_classifier.fit(X_train, y_train)\n",
    "\n",
    "        y_pred = knn_classifier.predict(X_test)\n",
    "\n",
    "        accuracy = round(metrics.accuracy_score(y_test, y_pred), 2)\n",
    "        average_accuracy = average_accuracy + accuracy\n",
    "        cross_val_scores = cross_val_score(knn_classifier, X, Y, cv=4)\n",
    "        cross_val_scores = [round(score, 2) for score in cross_val_scores]\n",
    "\n",
    "        print(\"Cross-Validation Scores:\", cross_val_scores)\n",
    "\n",
    "    average_accuracy = average_accuracy/n_splits\n",
    "    accuracy_overall.append(average_accuracy)\n",
    "\n",
    "plt.plot(accuracy_overall)\n",
    "plt.xlabel('Iteration - Iris -> Raisin')\n",
    "plt.ylabel('Accuracy')\n",
    "plt.title('Accuracy Overall')\n",
    "plt.show()"
   ]
  }
 ],
 "metadata": {
  "kernelspec": {
   "display_name": "Python 3",
   "language": "python",
   "name": "python3"
  },
  "language_info": {
   "codemirror_mode": {
    "name": "ipython",
    "version": 3
   },
   "file_extension": ".py",
   "mimetype": "text/x-python",
   "name": "python",
   "nbconvert_exporter": "python",
   "pygments_lexer": "ipython3",
   "version": "3.10.13"
  }
 },
 "nbformat": 4,
 "nbformat_minor": 2
}
