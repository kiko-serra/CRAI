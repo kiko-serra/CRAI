{
 "cells": [
  {
   "cell_type": "code",
   "execution_count": null,
   "metadata": {},
   "outputs": [],
   "source": [
    "import pandas as pd\n",
    "from sklearn import metrics\n",
    "from sklearn.ensemble import RandomForestClassifier\n",
    "from sklearn.neural_network import MLPClassifier\n",
    "from sklearn.model_selection import train_test_split\n",
    "from sklearn.metrics import classification_report, roc_auc_score\n",
    "from sklearn.model_selection import cross_val_score\n",
    "\n",
    "iris = pd.read_csv('./csv/Iris.csv')\n",
    "raisin = pd.read_csv('./final_csv/reduced_raisin.csv')"
   ]
  },
  {
   "cell_type": "code",
   "execution_count": null,
   "metadata": {},
   "outputs": [],
   "source": [
    "num_columns = iris.shape[1]\n",
    "iris_columns = iris.columns\n",
    "raisin_columns = raisin.columns\n",
    "\n",
    "accuracy_overall = []\n",
    "\n",
    "data = iris\n",
    "for index in range(num_columns):\n",
    "    print(\"\\nRaisin Column:\", raisin_columns[index], \" -- \", iris_columns[index], \"\\n\\n\")\n",
    "    data[iris_columns[index]] = raisin[raisin_columns[index]]\n",
    "\n",
    "    print(data.head())\n",
    "\n",
    "    X = data.drop('Species', axis=1)\n",
    "    y = data['Species']\n",
    "#  usar stratified kfold\n",
    "    X_train, X_test, y_train, y_test = train_test_split(X, y, train_size=0.75)\n",
    "\n",
    "    rf_classifier = MLPClassifier()\n",
    "\n",
    "    # Train the classifier\n",
    "    rf_classifier.fit(X_train, y_train)\n",
    "\n",
    "    y_pred = rf_classifier.predict(X_test)\n",
    "\n",
    "    accuracy = round(metrics.accuracy_score(y_test, y_pred), 2)\n",
    "    accuracy_overall.append(accuracy)\n",
    "    #f1_score = round(metrics.f1_score(y_test, y_pred), 2)\n",
    "    #auc_score = round(roc_auc_score(y_test, y_pred), 2)\n",
    "    cross_val_scores = cross_val_score(rf_classifier, X, y, cv=5)\n",
    "    cross_val_scores = [round(score, 2) for score in cross_val_scores]\n",
    "\n",
    "\n",
    "\n",
    "    print(\"Accuracy:\", accuracy)\n",
    "    #print(\"F1 Score:\", f1_score)\n",
    "    #print(\"AUC Score:\", auc_score)\n",
    "    print(\"Cross-Validation Scores:\", cross_val_scores)\n",
    "\n",
    "import matplotlib.pyplot as plt\n",
    "\n",
    "plt.plot(accuracy_overall)\n",
    "plt.xlabel('Column Index')\n",
    "plt.ylabel('Accuracy')\n",
    "plt.title('Accuracy Overall')\n",
    "plt.show()\n"
   ]
  },
  {
   "cell_type": "code",
   "execution_count": null,
   "metadata": {},
   "outputs": [],
   "source": []
  }
 ],
 "metadata": {
  "kernelspec": {
   "display_name": "Python 3",
   "language": "python",
   "name": "python3"
  },
  "language_info": {
   "name": "python",
   "version": "3.10.13"
  }
 },
 "nbformat": 4,
 "nbformat_minor": 2
}
