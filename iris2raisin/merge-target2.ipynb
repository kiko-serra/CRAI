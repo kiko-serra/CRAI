{
 "cells": [
  {
   "cell_type": "code",
   "execution_count": 5,
   "metadata": {},
   "outputs": [],
   "source": [
    "import pandas as pd\n",
    "from sklearn import metrics\n",
    "from sklearn.neural_network import MLPClassifier\n",
    "from sklearn.model_selection import train_test_split\n",
    "from sklearn.model_selection import cross_val_score\n",
    "import matplotlib.pyplot as plt\n",
    "\n",
    "iris = pd.read_csv('../final_csv/reduced_iris.csv')\n",
    "raisin = pd.read_csv('../final_csv/reduced_raisin.csv')"
   ]
  },
  {
   "cell_type": "code",
   "execution_count": 6,
   "metadata": {},
   "outputs": [
    {
     "name": "stdout",
     "output_type": "stream",
     "text": [
      "Number of columns: 5\n"
     ]
    }
   ],
   "source": [
    "from sklearn.model_selection import StratifiedKFold\n",
    "from sklearn.neighbors import KNeighborsClassifier\n",
    "\n",
    "num_columns = iris.shape[1]\n",
    "print(\"Number of columns:\", num_columns)\n",
    "iris = iris[['SepalLengthCm', 'SepalWidthCm', 'Species', 'PetalLengthCm', 'PetalWidthCm']]\n",
    "raisin = raisin[['majoraxislength', 'perimeter', 'class', 'convexarea', 'area']]\n",
    "iris['Species'] = iris['Species'].map({'Iris-setosa': 0, 'Iris-versicolor': 1, 'Iris-virginica': 2})\n",
    "iris_columns = iris.columns\n",
    "raisin_columns = raisin.columns\n",
    "\n",
    "accuracy_overall = []\n",
    "\n",
    "data = iris"
   ]
  },
  {
   "cell_type": "markdown",
   "metadata": {},
   "source": [
    "### Fit model with no changes to iris dataset"
   ]
  },
  {
   "cell_type": "code",
   "execution_count": 7,
   "metadata": {},
   "outputs": [
    {
     "name": "stdout",
     "output_type": "stream",
     "text": [
      "Accuracy: 1.0\n",
      "Cross-Validation Scores: [0.97, 0.95, 0.95, 1.0]\n"
     ]
    }
   ],
   "source": [
    "X = data.drop('Species', axis=1)\n",
    "y = data['Species']\n",
    "\n",
    "X_train, X_test, y_train, y_test = train_test_split(X, y, train_size=0.75)\n",
    "\n",
    "knn_classifier = KNeighborsClassifier()\n",
    "knn_classifier.fit(X_train, y_train)\n",
    "\n",
    "y_pred = knn_classifier.predict(X_test)\n",
    "\n",
    "accuracy = round(metrics.accuracy_score(y_test, y_pred), 2)\n",
    "accuracy_overall.append(accuracy)\n",
    "cross_val_scores = cross_val_score(knn_classifier, X, y, cv=4)\n",
    "cross_val_scores = [round(score, 2) for score in cross_val_scores]\n",
    "\n",
    "print(\"Accuracy:\", accuracy)\n",
    "print(\"Cross-Validation Scores:\", cross_val_scores)"
   ]
  },
  {
   "cell_type": "markdown",
   "metadata": {},
   "source": [
    "### Change columns from iris dataset to raisin"
   ]
  },
  {
   "cell_type": "code",
   "execution_count": 8,
   "metadata": {},
   "outputs": [
    {
     "name": "stdout",
     "output_type": "stream",
     "text": [
      "\n",
      "Raisin Column: majoraxislength  --  SepalLengthCm \n",
      "\n",
      "\n",
      "Cross-Validation Scores: [0.5, 0.55, 0.51, 0.43]\n",
      "Cross-Validation Scores: [0.5, 0.55, 0.51, 0.43]\n",
      "Cross-Validation Scores: [0.5, 0.55, 0.51, 0.43]\n",
      "Cross-Validation Scores: [0.5, 0.55, 0.51, 0.43]\n",
      "Cross-Validation Scores: [0.5, 0.55, 0.51, 0.43]\n",
      "Cross-Validation Scores: [0.5, 0.55, 0.51, 0.43]\n",
      "Cross-Validation Scores: [0.5, 0.55, 0.51, 0.43]\n",
      "Cross-Validation Scores: [0.5, 0.55, 0.51, 0.43]\n",
      "Cross-Validation Scores: [0.5, 0.55, 0.51, 0.43]\n",
      "Cross-Validation Scores: [0.5, 0.55, 0.51, 0.43]\n",
      "\n",
      "Raisin Column: perimeter  --  SepalWidthCm \n",
      "\n",
      "\n",
      "Cross-Validation Scores: [0.45, 0.42, 0.54, 0.49]\n",
      "Cross-Validation Scores: [0.45, 0.42, 0.54, 0.49]\n",
      "Cross-Validation Scores: [0.45, 0.42, 0.54, 0.49]\n",
      "Cross-Validation Scores: [0.45, 0.42, 0.54, 0.49]\n",
      "Cross-Validation Scores: [0.45, 0.42, 0.54, 0.49]\n",
      "Cross-Validation Scores: [0.45, 0.42, 0.54, 0.49]\n",
      "Cross-Validation Scores: [0.45, 0.42, 0.54, 0.49]\n",
      "Cross-Validation Scores: [0.45, 0.42, 0.54, 0.49]\n",
      "Cross-Validation Scores: [0.45, 0.42, 0.54, 0.49]\n",
      "Cross-Validation Scores: [0.45, 0.42, 0.54, 0.49]\n",
      "\n",
      "Raisin Column: class  --  Species \n",
      "\n",
      "\n",
      "Cross-Validation Scores: [0.82, 0.89, 0.86, 0.86]\n",
      "Cross-Validation Scores: [0.82, 0.89, 0.86, 0.86]\n",
      "Cross-Validation Scores: [0.82, 0.89, 0.86, 0.86]\n",
      "Cross-Validation Scores: [0.82, 0.89, 0.86, 0.86]\n",
      "Cross-Validation Scores: [0.82, 0.89, 0.86, 0.86]\n",
      "Cross-Validation Scores: [0.82, 0.89, 0.86, 0.86]\n",
      "Cross-Validation Scores: [0.82, 0.89, 0.86, 0.86]\n",
      "Cross-Validation Scores: [0.82, 0.89, 0.86, 0.86]\n",
      "Cross-Validation Scores: [0.82, 0.89, 0.86, 0.86]\n",
      "Cross-Validation Scores: [0.82, 0.89, 0.86, 0.86]\n",
      "\n",
      "Raisin Column: convexarea  --  PetalLengthCm \n",
      "\n",
      "\n",
      "Cross-Validation Scores: [0.74, 0.84, 0.76, 0.86]\n",
      "Cross-Validation Scores: [0.74, 0.84, 0.76, 0.86]\n",
      "Cross-Validation Scores: [0.74, 0.84, 0.76, 0.86]\n",
      "Cross-Validation Scores: [0.74, 0.84, 0.76, 0.86]\n",
      "Cross-Validation Scores: [0.74, 0.84, 0.76, 0.86]\n",
      "Cross-Validation Scores: [0.74, 0.84, 0.76, 0.86]\n",
      "Cross-Validation Scores: [0.74, 0.84, 0.76, 0.86]\n",
      "Cross-Validation Scores: [0.74, 0.84, 0.76, 0.86]\n",
      "Cross-Validation Scores: [0.74, 0.84, 0.76, 0.86]\n",
      "Cross-Validation Scores: [0.74, 0.84, 0.76, 0.86]\n",
      "\n",
      "Raisin Column: area  --  PetalWidthCm \n",
      "\n",
      "\n",
      "Cross-Validation Scores: [0.71, 0.87, 0.76, 0.86]\n",
      "Cross-Validation Scores: [0.71, 0.87, 0.76, 0.86]\n",
      "Cross-Validation Scores: [0.71, 0.87, 0.76, 0.86]\n",
      "Cross-Validation Scores: [0.71, 0.87, 0.76, 0.86]\n",
      "Cross-Validation Scores: [0.71, 0.87, 0.76, 0.86]\n",
      "Cross-Validation Scores: [0.71, 0.87, 0.76, 0.86]\n",
      "Cross-Validation Scores: [0.71, 0.87, 0.76, 0.86]\n",
      "Cross-Validation Scores: [0.71, 0.87, 0.76, 0.86]\n",
      "Cross-Validation Scores: [0.71, 0.87, 0.76, 0.86]\n",
      "Cross-Validation Scores: [0.71, 0.87, 0.76, 0.86]\n"
     ]
    },
    {
     "data": {
      "image/png": "[encoded data removed]",
      "text/plain": [
       "<Figure size 640x480 with 1 Axes>"
      ]
     },
     "metadata": {},
     "output_type": "display_data"
    }
   ],
   "source": [
    "for index in range(num_columns):\n",
    "    print(\"\\nRaisin Column:\", raisin_columns[index], \" -- \", iris_columns[index], \"\\n\\n\")\n",
    "    data.iloc[:,index] = raisin.iloc[:,index]\n",
    "\n",
    "    X = data.drop('Species', axis=1)\n",
    "    Y = data['Species'].astype('int')\n",
    "\n",
    "    n_splits = 10\n",
    "\n",
    "    skf = StratifiedKFold(n_splits, shuffle=True, random_state=10)\n",
    "    average_accuracy=0\n",
    "    for fold, (train_index, test_index) in enumerate(skf.split(X, Y)):\n",
    "        X_train = X.take(train_index)\n",
    "        y_train = Y.take(train_index)\n",
    "        X_test = X.take(test_index)\n",
    "        y_test = Y.take(test_index)\n",
    "\n",
    "        knn_classifier = KNeighborsClassifier()\n",
    "        knn_classifier.fit(X_train, y_train)\n",
    "\n",
    "        y_pred = knn_classifier.predict(X_test)\n",
    "\n",
    "        accuracy = round(metrics.accuracy_score(y_test, y_pred), 2)\n",
    "        average_accuracy = average_accuracy + accuracy\n",
    "        cross_val_scores = cross_val_score(knn_classifier, X, Y, cv=4)\n",
    "        cross_val_scores = [round(score, 2) for score in cross_val_scores]\n",
    "\n",
    "        print(\"Cross-Validation Scores:\", cross_val_scores)\n",
    "\n",
    "    average_accuracy = average_accuracy/n_splits\n",
    "    accuracy_overall.append(average_accuracy)\n",
    "\n",
    "plt.plot(accuracy_overall)\n",
    "plt.xlabel('Iteration - Iris -> Raisin')\n",
    "plt.ylabel('Accuracy')\n",
    "plt.title('Accuracy Overall')\n",
    "plt.show()"
   ]
  }
 ],
 "metadata": {
  "kernelspec": {
   "display_name": "Python 3",
   "language": "python",
   "name": "python3"
  },
  "language_info": {
   "codemirror_mode": {
    "name": "ipython",
    "version": 3
   },
   "file_extension": ".py",
   "mimetype": "text/x-python",
   "name": "python",
   "nbconvert_exporter": "python",
   "pygments_lexer": "ipython3",
   "version": "3.10.13"
  }
 },
 "nbformat": 4,
 "nbformat_minor": 2
}
